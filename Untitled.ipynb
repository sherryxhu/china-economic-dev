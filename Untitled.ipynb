{
 "cells": [
  {
   "cell_type": "code",
   "execution_count": 1,
   "metadata": {},
   "outputs": [],
   "source": [
    "import pandas as pd"
   ]
  },
  {
   "cell_type": "code",
   "execution_count": 2,
   "metadata": {},
   "outputs": [],
   "source": [
    "df = pd.read_csv(\"data.csv\")"
   ]
  },
  {
   "cell_type": "code",
   "execution_count": 3,
   "metadata": {},
   "outputs": [
    {
     "data": {
      "text/html": [
       "<div>\n",
       "<style scoped>\n",
       "    .dataframe tbody tr th:only-of-type {\n",
       "        vertical-align: middle;\n",
       "    }\n",
       "\n",
       "    .dataframe tbody tr th {\n",
       "        vertical-align: top;\n",
       "    }\n",
       "\n",
       "    .dataframe thead th {\n",
       "        text-align: right;\n",
       "    }\n",
       "</style>\n",
       "<table border=\"1\" class=\"dataframe\">\n",
       "  <thead>\n",
       "    <tr style=\"text-align: right;\">\n",
       "      <th></th>\n",
       "      <th>Unnamed: 0</th>\n",
       "      <th>HHID</th>\n",
       "      <th>WAVE</th>\n",
       "      <th>HHINC_CPI</th>\n",
       "      <th>HHINCPC_CPI</th>\n",
       "      <th>HHBUS</th>\n",
       "      <th>HHBUSIMP</th>\n",
       "      <th>HHFARM</th>\n",
       "      <th>HHFARMIMP</th>\n",
       "      <th>HHFISH</th>\n",
       "      <th>...</th>\n",
       "      <th>HHOTHR</th>\n",
       "      <th>HHOTHRIMP</th>\n",
       "      <th>HHRETIRE</th>\n",
       "      <th>HHRETIREIMP</th>\n",
       "      <th>HHSUB</th>\n",
       "      <th>HHSUBIMP</th>\n",
       "      <th>T1</th>\n",
       "      <th>URBAN</th>\n",
       "      <th>cyear</th>\n",
       "      <th>thousands</th>\n",
       "    </tr>\n",
       "  </thead>\n",
       "  <tbody>\n",
       "    <tr>\n",
       "      <td>0</td>\n",
       "      <td>1</td>\n",
       "      <td>211101001</td>\n",
       "      <td>1989</td>\n",
       "      <td>14174.529412</td>\n",
       "      <td>4724.843137</td>\n",
       "      <td>0.0</td>\n",
       "      <td>0</td>\n",
       "      <td>0.0</td>\n",
       "      <td>0</td>\n",
       "      <td>0</td>\n",
       "      <td>...</td>\n",
       "      <td>0.000000</td>\n",
       "      <td>0</td>\n",
       "      <td>0.0</td>\n",
       "      <td>0</td>\n",
       "      <td>1806.14</td>\n",
       "      <td>1</td>\n",
       "      <td>21</td>\n",
       "      <td>1</td>\n",
       "      <td>0</td>\n",
       "      <td>14.174529</td>\n",
       "    </tr>\n",
       "    <tr>\n",
       "      <td>1</td>\n",
       "      <td>2</td>\n",
       "      <td>211101002</td>\n",
       "      <td>1989</td>\n",
       "      <td>13085.823529</td>\n",
       "      <td>4361.941176</td>\n",
       "      <td>0.0</td>\n",
       "      <td>0</td>\n",
       "      <td>0.0</td>\n",
       "      <td>0</td>\n",
       "      <td>0</td>\n",
       "      <td>...</td>\n",
       "      <td>0.000000</td>\n",
       "      <td>0</td>\n",
       "      <td>0.0</td>\n",
       "      <td>0</td>\n",
       "      <td>2035.58</td>\n",
       "      <td>1</td>\n",
       "      <td>21</td>\n",
       "      <td>1</td>\n",
       "      <td>0</td>\n",
       "      <td>13.085824</td>\n",
       "    </tr>\n",
       "    <tr>\n",
       "      <td>2</td>\n",
       "      <td>3</td>\n",
       "      <td>211101003</td>\n",
       "      <td>1989</td>\n",
       "      <td>15047.352941</td>\n",
       "      <td>5015.784314</td>\n",
       "      <td>0.0</td>\n",
       "      <td>0</td>\n",
       "      <td>0.0</td>\n",
       "      <td>0</td>\n",
       "      <td>0</td>\n",
       "      <td>...</td>\n",
       "      <td>510.000000</td>\n",
       "      <td>0</td>\n",
       "      <td>0.0</td>\n",
       "      <td>0</td>\n",
       "      <td>1783.90</td>\n",
       "      <td>1</td>\n",
       "      <td>21</td>\n",
       "      <td>1</td>\n",
       "      <td>0</td>\n",
       "      <td>15.047353</td>\n",
       "    </tr>\n",
       "    <tr>\n",
       "      <td>3</td>\n",
       "      <td>4</td>\n",
       "      <td>211101004</td>\n",
       "      <td>1989</td>\n",
       "      <td>17020.176471</td>\n",
       "      <td>5673.392157</td>\n",
       "      <td>0.0</td>\n",
       "      <td>0</td>\n",
       "      <td>0.0</td>\n",
       "      <td>0</td>\n",
       "      <td>0</td>\n",
       "      <td>...</td>\n",
       "      <td>0.000000</td>\n",
       "      <td>0</td>\n",
       "      <td>0.0</td>\n",
       "      <td>0</td>\n",
       "      <td>1818.46</td>\n",
       "      <td>1</td>\n",
       "      <td>21</td>\n",
       "      <td>1</td>\n",
       "      <td>0</td>\n",
       "      <td>17.020176</td>\n",
       "    </tr>\n",
       "    <tr>\n",
       "      <td>4</td>\n",
       "      <td>5</td>\n",
       "      <td>211101005</td>\n",
       "      <td>1989</td>\n",
       "      <td>28431.293008</td>\n",
       "      <td>9477.097669</td>\n",
       "      <td>0.0</td>\n",
       "      <td>0</td>\n",
       "      <td>0.0</td>\n",
       "      <td>0</td>\n",
       "      <td>0</td>\n",
       "      <td>...</td>\n",
       "      <td>484.339623</td>\n",
       "      <td>1</td>\n",
       "      <td>3600.0</td>\n",
       "      <td>0</td>\n",
       "      <td>2722.70</td>\n",
       "      <td>1</td>\n",
       "      <td>21</td>\n",
       "      <td>1</td>\n",
       "      <td>0</td>\n",
       "      <td>28.431293</td>\n",
       "    </tr>\n",
       "  </tbody>\n",
       "</table>\n",
       "<p>5 rows × 27 columns</p>\n",
       "</div>"
      ],
      "text/plain": [
       "   Unnamed: 0       HHID  WAVE     HHINC_CPI  HHINCPC_CPI  HHBUS  HHBUSIMP  \\\n",
       "0           1  211101001  1989  14174.529412  4724.843137    0.0         0   \n",
       "1           2  211101002  1989  13085.823529  4361.941176    0.0         0   \n",
       "2           3  211101003  1989  15047.352941  5015.784314    0.0         0   \n",
       "3           4  211101004  1989  17020.176471  5673.392157    0.0         0   \n",
       "4           5  211101005  1989  28431.293008  9477.097669    0.0         0   \n",
       "\n",
       "   HHFARM  HHFARMIMP  HHFISH  ...      HHOTHR  HHOTHRIMP  HHRETIRE  \\\n",
       "0     0.0          0       0  ...    0.000000          0       0.0   \n",
       "1     0.0          0       0  ...    0.000000          0       0.0   \n",
       "2     0.0          0       0  ...  510.000000          0       0.0   \n",
       "3     0.0          0       0  ...    0.000000          0       0.0   \n",
       "4     0.0          0       0  ...  484.339623          1    3600.0   \n",
       "\n",
       "   HHRETIREIMP    HHSUB  HHSUBIMP  T1  URBAN  cyear  thousands  \n",
       "0            0  1806.14         1  21      1      0  14.174529  \n",
       "1            0  2035.58         1  21      1      0  13.085824  \n",
       "2            0  1783.90         1  21      1      0  15.047353  \n",
       "3            0  1818.46         1  21      1      0  17.020176  \n",
       "4            0  2722.70         1  21      1      0  28.431293  \n",
       "\n",
       "[5 rows x 27 columns]"
      ]
     },
     "execution_count": 3,
     "metadata": {},
     "output_type": "execute_result"
    }
   ],
   "source": [
    "df.head()"
   ]
  },
  {
   "cell_type": "code",
   "execution_count": 4,
   "metadata": {},
   "outputs": [
    {
     "data": {
      "text/plain": [
       "array([211101001, 211101002, 211101003, ..., 552303161, 552303162,\n",
       "       552304161], dtype=int64)"
      ]
     },
     "execution_count": 4,
     "metadata": {},
     "output_type": "execute_result"
    }
   ],
   "source": [
    "df[\"HHID\"].unique()"
   ]
  },
  {
   "cell_type": "code",
   "execution_count": 12,
   "metadata": {},
   "outputs": [
    {
     "name": "stdout",
     "output_type": "stream",
     "text": [
      "0\n"
     ]
    }
   ],
   "source": [
    "num_HHID_with_multiple_provinces = 0\n",
    "for id in df[\"HHID\"].unique():\n",
    "    df_subset = df[df['HHID']==id]\n",
    "    if len(df_subset[\"T1\"].unique()) > 1:\n",
    "        num_HHID_with_multiple_provinces += 1\n",
    "\n",
    "print(num_HHID_with_multiple_provinces)"
   ]
  },
  {
   "cell_type": "code",
   "execution_count": 13,
   "metadata": {},
   "outputs": [
    {
     "name": "stdout",
     "output_type": "stream",
     "text": [
      "0\n"
     ]
    }
   ],
   "source": [
    "num_HHID_switch_urban = 0\n",
    "for id in df[\"HHID\"].unique():\n",
    "    df_subset = df[df['HHID']==id]\n",
    "    if len(df_subset[\"URBAN\"].unique()) > 1:\n",
    "        num_HHID_with_multiple_provinces += 1\n",
    "\n",
    "print(num_HHID_with_multiple_provinces)"
   ]
  },
  {
   "cell_type": "code",
   "execution_count": null,
   "metadata": {},
   "outputs": [],
   "source": []
  }
 ],
 "metadata": {
  "kernelspec": {
   "display_name": "Python 3",
   "language": "python",
   "name": "python3"
  },
  "language_info": {
   "codemirror_mode": {
    "name": "ipython",
    "version": 3
   },
   "file_extension": ".py",
   "mimetype": "text/x-python",
   "name": "python",
   "nbconvert_exporter": "python",
   "pygments_lexer": "ipython3",
   "version": "3.7.4"
  },
  "varInspector": {
   "cols": {
    "lenName": 16,
    "lenType": 16,
    "lenVar": 40
   },
   "kernels_config": {
    "python": {
     "delete_cmd_postfix": "",
     "delete_cmd_prefix": "del ",
     "library": "var_list.py",
     "varRefreshCmd": "print(var_dic_list())"
    },
    "r": {
     "delete_cmd_postfix": ") ",
     "delete_cmd_prefix": "rm(",
     "library": "var_list.r",
     "varRefreshCmd": "cat(var_dic_list()) "
    }
   },
   "types_to_exclude": [
    "module",
    "function",
    "builtin_function_or_method",
    "instance",
    "_Feature"
   ],
   "window_display": false
  }
 },
 "nbformat": 4,
 "nbformat_minor": 2
}
